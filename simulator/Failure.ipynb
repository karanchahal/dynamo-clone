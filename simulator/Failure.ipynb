{
 "cells": [
  {
   "cell_type": "code",
   "execution_count": 1,
   "metadata": {},
   "outputs": [],
   "source": [
    "from tqdm.notebook import tqdm\n",
    "import numpy as np\n",
    "import sys\n",
    "sys.path.append('../')\n",
    "from partitioning import is_pow_of_two, init_membership_list\n",
    "# from spawn import start_db_background\n",
    "from structures import Params, NetworkParams\n",
    "from client_dynamo import client_get, client_put, client_get_memory\n",
    "from parallel_runner import run_parallel\n",
    "from random import randint\n",
    "\n",
    "import logging\n",
    "logger = logging.getLogger('dynamo_node')\n",
    "logger.setLevel(logging.INFO)\n",
    "\n",
    "START_PORT = 2333\n",
    "CLIENT_ID = 1\n",
    "\n",
    "def get_start_port(randomize=True):\n",
    "    return START_PORT + randint(0, params.num_proc-1) * int(randomize)\n",
    "\n",
    "def get_stats(durations):\n",
    "    if len(durations) == 0:\n",
    "        return {}\n",
    "    durations = np.array(durations) # convert from seconds to ms\n",
    "    mean = np.mean(durations)\n",
    "    std = np.std(durations)\n",
    "    nnth = np.percentile(durations, 99.9)\n",
    "    return {'mean': mean, 'std': std, '99.9th': nnth}\n",
    "\n",
    "def generate_plot(durations, label='', clear=True):\n",
    "    if clear:\n",
    "        plt.clf()\n",
    "    fig = sns.distplot(durations, label=label)\n",
    "    plt.ylabel('Density')\n",
    "    plt.xlabel('Response Time (in ms)')\n",
    "    plt.title('Distribution of response times (in ms)')\n",
    "    plt.legend()\n",
    "    plt.show()\n"
   ]
  },
  {
   "cell_type": "code",
   "execution_count": 2,
   "metadata": {},
   "outputs": [],
   "source": [
    "params = Params({\n",
    "    'num_proc' : 8,\n",
    "    'hash_size': 8, # 2^3 = 8 \n",
    "    'Q' : 16, # \n",
    "    'N' : 4,\n",
    "    'w_timeout': 2,\n",
    "    'r_timeout': 2,\n",
    "    'R': 1,\n",
    "    'W': 3,\n",
    "    'gossip': False\n",
    "})"
   ]
  },
  {
   "cell_type": "code",
   "execution_count": 3,
   "metadata": {},
   "outputs": [],
   "source": [
    "def run_multiple_get(total, num_requests, get_durations):\n",
    "    for i in tqdm(range(total // num_requests)):\n",
    "        requests = [client_get]*num_requests\n",
    "        requests_params = [{'port': get_start_port(), 'client_id': CLIENT_ID, 'key': randint(0, 2**params.hash_size-1)} for _ in range(num_requests)]\n",
    "        get_durations = np.concatenate((get_durations, run_parallel(requests, requests_params, start_port=START_PORT)))\n",
    "    return get_durations\n",
    "\n",
    "def run_multiple_put(total, num_requests, put_durations):\n",
    "    for i in tqdm(range(total // num_requests)):\n",
    "        requests = [client_put]*num_requests\n",
    "        k = randint(0, 2**params.hash_size-1)\n",
    "        requests_params = [{'port': get_start_port(), 'client_id': CLIENT_ID, 'key': k, 'val': str(k)} for _ in range(num_requests)]\n",
    "        put_durations = np.concatenate((put_durations, run_parallel(requests, requests_params, start_port=START_PORT)))\n",
    "    return put_durations\n",
    "\n",
    "def store_keys(params):\n",
    "    for key in tqdm(range(2**params.hash_size)):\n",
    "        client_put(get_start_port(), CLIENT_ID, key=key, val=str(key))"
   ]
  },
  {
   "cell_type": "code",
   "execution_count": 4,
   "metadata": {
    "scrolled": false
   },
   "outputs": [
    {
     "data": {
      "application/vnd.jupyter.widget-view+json": {
       "model_id": "36edc885a61c4ebdbef9d9c66e879f0e",
       "version_major": 2,
       "version_minor": 0
      },
      "text/plain": [
       "HBox(children=(HTML(value=''), FloatProgress(value=0.0, max=256.0), HTML(value='')))"
      ]
     },
     "metadata": {},
     "output_type": "display_data"
    },
    {
     "name": "stdout",
     "output_type": "stream",
     "text": [
      "\n"
     ]
    }
   ],
   "source": [
    "store_keys(params)"
   ]
  },
  {
   "cell_type": "markdown",
   "metadata": {},
   "source": [
    "## With failures"
   ]
  },
  {
   "cell_type": "code",
   "execution_count": null,
   "metadata": {},
   "outputs": [],
   "source": [
    "import logging\n",
    "logger = logging.getLogger('dynamo_node')\n",
    "logger.setLevel(logging.INFO)\n",
    "# logger.propagate = False"
   ]
  },
  {
   "cell_type": "code",
   "execution_count": 6,
   "metadata": {},
   "outputs": [],
   "source": [
    "def get_start_port(randomize=True, failed_port=None):\n",
    "    new_port = START_PORT + randint(0, params.num_proc-1) * int(randomize)\n",
    "    while failed_port is not None and new_port == failed_port:\n",
    "        new_port = START_PORT + randint(0, params.num_proc-1) * int(randomize)\n",
    "    return new_port\n",
    "\n",
    "def run_multiple_get(total, num_requests, get_durations=None, failed_port=None):\n",
    "    durations, responses = [], []\n",
    "    for i in tqdm(range(total // num_requests)):\n",
    "        requests = [client_get]*num_requests\n",
    "        key = randint(0, 2**params.hash_size-1)\n",
    "        while (key >= 176 and key <= 191) or (key >= 208 and key <= 223):\n",
    "            # dont want a key to go to a failed coordinator node\n",
    "            key = randint(0, 2**params.hash_size-1)                             \n",
    "        requests_params = [{'port': get_start_port(failed_port=failed_port), 'client_id': CLIENT_ID, 'key': key} for _ in range(num_requests)]\n",
    "        _durations, _responses = run_parallel(requests, requests_params, start_port=START_PORT, as_np=False)\n",
    "        print(len(_durations))\n",
    "        durations.extend(_durations)\n",
    "        responses.extend(_responses)\n",
    "    return durations, responses"
   ]
  },
  {
   "cell_type": "code",
   "execution_count": 5,
   "metadata": {},
   "outputs": [
    {
     "data": {
      "text/plain": [
       "[176,\n",
       " 177,\n",
       " 178,\n",
       " 179,\n",
       " 180,\n",
       " 181,\n",
       " 182,\n",
       " 183,\n",
       " 184,\n",
       " 185,\n",
       " 186,\n",
       " 187,\n",
       " 188,\n",
       " 189,\n",
       " 190,\n",
       " 191,\n",
       " 208,\n",
       " 209,\n",
       " 210,\n",
       " 211,\n",
       " 212,\n",
       " 213,\n",
       " 214,\n",
       " 215,\n",
       " 216,\n",
       " 217,\n",
       " 218,\n",
       " 219,\n",
       " 220,\n",
       " 221,\n",
       " 222,\n",
       " 223]"
      ]
     },
     "execution_count": 5,
     "metadata": {},
     "output_type": "execute_result"
    }
   ],
   "source": [
    "from client_dynamo import client_fail\n",
    "\n",
    "START_PORT\n",
    "mem1, replic_mem = client_get_memory(START_PORT)\n",
    "\n",
    "keys = []\n",
    "for k,v in mem1.items():\n",
    "    keys.append(k)\n",
    "\n",
    "sorted(keys)"
   ]
  },
  {
   "cell_type": "code",
   "execution_count": 7,
   "metadata": {},
   "outputs": [],
   "source": [
    "client_fail(START_PORT)"
   ]
  },
  {
   "cell_type": "code",
   "execution_count": null,
   "metadata": {},
   "outputs": [],
   "source": [
    "response = client_put(START_PORT+1, CLIENT_ID, 0, \"0\")\n",
    "print(response)\n",
    "\n",
    "response = client_get(START_PORT+1, CLIENT_ID, 0)\n",
    "print(response)"
   ]
  },
  {
   "cell_type": "code",
   "execution_count": 8,
   "metadata": {
    "scrolled": false
   },
   "outputs": [
    {
     "data": {
      "application/vnd.jupyter.widget-view+json": {
       "model_id": "d7cdf67abd9d41fe9a85eefe15273a4b",
       "version_major": 2,
       "version_minor": 0
      },
      "text/plain": [
       "HBox(children=(HTML(value=''), FloatProgress(value=0.0, max=3.0), HTML(value='')))"
      ]
     },
     "metadata": {},
     "output_type": "display_data"
    },
    {
     "name": "stdout",
     "output_type": "stream",
     "text": [
      "10 [0.03500699996948242, 0.02516317367553711, 0.025689125061035156, 0.030003070831298828, 0.02937483787536621, 0.03000497817993164, 0.032386064529418945, 0.027057886123657227, 0.02564406394958496, 0.024981021881103516]\n",
      "10\n",
      "10 [0.0274050235748291, 0.03005218505859375, 0.01553487777709961, 0.012842893600463867, 0.04655575752258301, 0.014355897903442383, 0.029096126556396484, 0.028202056884765625, 0.02606797218322754, 0.030539989471435547]\n",
      "10\n",
      "10 [0.014088869094848633, 0.030475139617919922, 0.030516862869262695, 0.030209064483642578, 0.04502105712890625, 0.013289928436279297, 0.026469945907592773, 0.027759075164794922, 0.028607845306396484, 0.028111934661865234]\n",
      "10\n",
      "\n"
     ]
    }
   ],
   "source": [
    "# get_fail_durations = np.array([])\n",
    "get_fail_durations, responses = run_multiple_get(30, 10, None, START_PORT)"
   ]
  },
  {
   "cell_type": "code",
   "execution_count": 9,
   "metadata": {},
   "outputs": [
    {
     "data": {
      "text/plain": [
       "(30,)"
      ]
     },
     "execution_count": 9,
     "metadata": {},
     "output_type": "execute_result"
    }
   ],
   "source": [
    "get_fail_durations = np.array(get_fail_durations)\n",
    "\n",
    "get_fail_durations.shape"
   ]
  },
  {
   "cell_type": "code",
   "execution_count": 10,
   "metadata": {},
   "outputs": [
    {
     "data": {
      "text/plain": [
       "30"
      ]
     },
     "execution_count": 10,
     "metadata": {},
     "output_type": "execute_result"
    }
   ],
   "source": [
    "len(get_fail_durations)"
   ]
  },
  {
   "cell_type": "code",
   "execution_count": 11,
   "metadata": {},
   "outputs": [
    {
     "data": {
      "text/plain": [
       "array([35.00699997, 25.16317368, 25.68912506, 30.00307083, 29.37483788,\n",
       "       30.00497818, 32.38606453, 27.05788612, 25.64406395, 24.98102188,\n",
       "       27.40502357, 30.05218506, 15.53487778, 12.8428936 , 46.55575752,\n",
       "       14.3558979 , 29.09612656, 28.20205688, 26.06797218, 30.53998947,\n",
       "       14.08886909, 30.47513962, 30.51686287, 30.20906448, 45.02105713,\n",
       "       13.28992844, 26.46994591, 27.75907516, 28.60784531, 28.11193466])"
      ]
     },
     "execution_count": 11,
     "metadata": {},
     "output_type": "execute_result"
    }
   ],
   "source": [
    "get_fail_durations*1000"
   ]
  },
  {
   "cell_type": "code",
   "execution_count": null,
   "metadata": {},
   "outputs": [],
   "source": [
    "len(responses)"
   ]
  },
  {
   "cell_type": "code",
   "execution_count": null,
   "metadata": {},
   "outputs": [],
   "source": [
    "get_durations.shape"
   ]
  },
  {
   "cell_type": "code",
   "execution_count": null,
   "metadata": {},
   "outputs": [],
   "source": [
    "test = [0.029925823211669922, 0.03148627281188965, 0.031996965408325195, 0.03176593780517578, 0.031462907791137695, 0.030453920364379883, 0.03252911567687988, 0.0177609920501709, 0.1620798110961914, 0.2121727466583252, 0.22617697715759277, 0.2506279945373535, 0.24697089195251465, 0.29291319847106934, 0.4482302665710449, 0.40848278999328613, 0.48263120651245117]"
   ]
  },
  {
   "cell_type": "code",
   "execution_count": null,
   "metadata": {},
   "outputs": [],
   "source": [
    "len(test)"
   ]
  }
 ],
 "metadata": {
  "kernelspec": {
   "display_name": "Python 3",
   "language": "python",
   "name": "python3"
  },
  "language_info": {
   "codemirror_mode": {
    "name": "ipython",
    "version": 3
   },
   "file_extension": ".py",
   "mimetype": "text/x-python",
   "name": "python",
   "nbconvert_exporter": "python",
   "pygments_lexer": "ipython3",
   "version": "3.6.12"
  }
 },
 "nbformat": 4,
 "nbformat_minor": 4
}
