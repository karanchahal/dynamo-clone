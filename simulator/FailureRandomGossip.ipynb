{
 "cells": [
  {
   "cell_type": "code",
   "execution_count": 1,
   "metadata": {},
   "outputs": [],
   "source": [
    "from tqdm.notebook import tqdm\n",
    "import numpy as np\n",
    "import sys\n",
    "sys.path.append('../')\n",
    "from partitioning import is_pow_of_two, init_membership_list\n",
    "# from spawn import start_db_background\n",
    "from structures import Params, NetworkParams\n",
    "from client_dynamo import client_get, client_put, client_get_memory\n",
    "from parallel_runner import run_parallel\n",
    "from random import randint\n",
    "\n",
    "import logging\n",
    "logger = logging.getLogger('dynamo_node')\n",
    "logger.setLevel(logging.INFO)\n",
    "\n",
    "START_PORT = 2333\n",
    "CLIENT_ID = 1\n",
    "\n",
    "def get_start_port_no_fail(randomize=True):\n",
    "    return START_PORT + randint(0, params.num_proc-1) * int(randomize)\n",
    "\n",
    "def get_stats(durations):\n",
    "    if len(durations) == 0:\n",
    "        return {}\n",
    "    durations = np.array(durations) # convert from seconds to ms\n",
    "    mean = np.mean(durations)\n",
    "    std = np.std(durations)\n",
    "    nnth = np.percentile(durations, 99.9)\n",
    "    return {'mean': mean, 'std': std, '99.9th': nnth}\n",
    "\n",
    "def generate_plot(durations, label='', clear=True):\n",
    "    if clear:\n",
    "        plt.clf()\n",
    "    fig = sns.distplot(durations, label=label)\n",
    "    plt.ylabel('Density')\n",
    "    plt.xlabel('Response Time (in ms)')\n",
    "    plt.title('Distribution of response times (in ms)')\n",
    "    plt.legend()\n",
    "    plt.show()\n"
   ]
  },
  {
   "cell_type": "code",
   "execution_count": 2,
   "metadata": {},
   "outputs": [],
   "source": [
    "params = Params({\n",
    "    'num_proc' : 8,\n",
    "    'hash_size': 8, # 2^3 = 8 \n",
    "    'Q' : 16, # \n",
    "    'N' : 4,\n",
    "    'w_timeout': 2,\n",
    "    'r_timeout': 2,\n",
    "    'R': 1,\n",
    "    'W': 3,\n",
    "    'gossip': True\n",
    "})"
   ]
  },
  {
   "cell_type": "code",
   "execution_count": 3,
   "metadata": {},
   "outputs": [],
   "source": [
    "def run_multiple_get(total, num_requests, get_durations):\n",
    "    for i in tqdm(range(total // num_requests)):\n",
    "        requests = [client_get]*num_requests\n",
    "        requests_params = [{'port': get_start_port_no_fail(), 'client_id': CLIENT_ID, 'key': randint(0, 2**params.hash_size-1)} for _ in range(num_requests)]\n",
    "        get_durations = np.concatenate((get_durations, run_parallel(requests, requests_params, start_port=START_PORT)))\n",
    "    return get_durations\n",
    "\n",
    "def run_multiple_put(total, num_requests, put_durations):\n",
    "    for i in tqdm(range(total // num_requests)):\n",
    "        requests = [client_put]*num_requests\n",
    "        k = randint(0, 2**params.hash_size-1)\n",
    "        requests_params = [{'port': get_start_port_no_fail(), 'client_id': CLIENT_ID, 'key': k, 'val': str(k)} for _ in range(num_requests)]\n",
    "        put_durations = np.concatenate((put_durations, run_parallel(requests, requests_params, start_port=START_PORT)))\n",
    "    return put_durations\n",
    "\n",
    "def store_keys(params):\n",
    "    for key in tqdm(range(2**params.hash_size)):\n",
    "        client_put(get_start_port_no_fail(), CLIENT_ID, key=key, val=str(key))"
   ]
  },
  {
   "cell_type": "code",
   "execution_count": 4,
   "metadata": {
    "scrolled": false
   },
   "outputs": [],
   "source": [
    "# store_keys(params)"
   ]
  },
  {
   "cell_type": "markdown",
   "metadata": {},
   "source": [
    "## With failures"
   ]
  },
  {
   "cell_type": "code",
   "execution_count": 5,
   "metadata": {},
   "outputs": [],
   "source": [
    "import logging\n",
    "logger = logging.getLogger('dynamo_node')\n",
    "logger.setLevel(logging.INFO)\n",
    "# logger.propagate = False"
   ]
  },
  {
   "cell_type": "code",
   "execution_count": 6,
   "metadata": {},
   "outputs": [],
   "source": [
    "def get_start_port(randomize=True, failed_ports=None):\n",
    "    new_port = START_PORT + randint(0, params.num_proc-1) * int(randomize)\n",
    "    while failed_ports is not None and new_port in failed_ports:\n",
    "        new_port = START_PORT + randint(0, params.num_proc-1) * int(randomize)\n",
    "    return new_port\n",
    "\n",
    "def run_multiple_get(total, num_requests, get_durations=None, failed_port=None):\n",
    "    durations, responses = [], []\n",
    "    for i in tqdm(range(total // num_requests)):\n",
    "        requests = [client_get]*num_requests\n",
    "        key = randint(0, 2**params.hash_size-1)\n",
    "#         while (key >= 176 and key <= 191) or (key >= 208 and key <= 223):\n",
    "#             # dont want a key to go to a failed coordinator node\n",
    "#             key = randint(0, 2**params.hash_size-1)                             \n",
    "        requests_params = [{'port': get_start_port(failed_port=failed_port), 'client_id': CLIENT_ID, 'key': key} for _ in range(num_requests)]\n",
    "        _durations, _responses = run_parallel(requests, requests_params, start_port=START_PORT, as_np=False)\n",
    "        print(len(_durations))\n",
    "        durations.extend(_durations)\n",
    "        responses.extend(_responses)\n",
    "    return durations, responses"
   ]
  },
  {
   "cell_type": "code",
   "execution_count": null,
   "metadata": {},
   "outputs": [],
   "source": [
    "from client_dynamo import client_fail\n",
    "import random\n",
    "import time\n",
    "\n",
    "def wreak_havoc(failed_ports):\n",
    "    '''\n",
    "    returns updated list of failing nodes\n",
    "    '''\n",
    "    # bring some failed nodes back online\n",
    "    \n",
    "    # fail some other nodes randomly\n",
    "    ports_to_unfail = []\n",
    "    if failed_ports != None and len(failed_ports) >3:\n",
    "        ports_to_unfail = failed_ports[:3]\n",
    "        failed_ports = failed_ports[4:]\n",
    "    \n",
    "    for n in ports_to_unfail:\n",
    "        client_fail(n, fail=False)\n",
    "        \n",
    "    new_candidate_for_failure = get_start_port(failed_ports=failed_ports)\n",
    "    \n",
    "    client_fail(new_candidate_for_failure, fail=True)\n",
    "    \n",
    "    if failed_ports == None:\n",
    "        failed_ports = [new_candidate_for_failure]\n",
    "    else:\n",
    "        failed_ports.append(new_candidate_for_failure)\n",
    "    \n",
    "    return failed_ports\n",
    "    \n",
    "    \n",
    "import random\n",
    "def random_get_put_requests(keys_in_db={}, failed_ports=None):\n",
    "    '''\n",
    "    Make 100 random get or put requests\n",
    "    '''\n",
    "    durations = []\n",
    "    for i in tqdm(range(100)):\n",
    "#         time.sleep(random.uniform(0.5, 1))\n",
    "        try:\n",
    "            p = random.uniform(0,1)\n",
    "\n",
    "            if p >= 0.5 and keys_in_db != {}:\n",
    "                key = randint(0, 2**params.hash_size-1)\n",
    "\n",
    "                while key not in keys_in_db:\n",
    "                    key = randint(0, 2**params.hash_size-1)\n",
    "\n",
    "                s = time.time()\n",
    "                port_to_send = get_start_port(failed_ports=failed_ports)\n",
    "#                 print(f\"GET port={port_to_send}, key={key}\")\n",
    "                response = client_get(port=port_to_send, client_id=CLIENT_ID, key=key)\n",
    "                e = time.time()\n",
    "                if response.succ == False:\n",
    "                    print(\"GET didn't succeed\")\n",
    "                    durations.append((\"get_failed\", e - s))\n",
    "                    continue\n",
    "                # TODO: see if any versions diverge ?\n",
    "\n",
    "                \n",
    "                durations.append((\"get\", e - s))\n",
    "            else:\n",
    "                # send 1 put request\n",
    "                key = randint(0, 2**params.hash_size-1)\n",
    "                val = str(key)\n",
    "                context = None\n",
    "                if key in keys_in_db:\n",
    "                    # use the vector clock returned by that key\n",
    "                    try:\n",
    "                        context = keys_in_db[key].context\n",
    "                    except:\n",
    "                        print(keys_in_db[key])\n",
    "                        raise NotImplementedError\n",
    "                s = time.time()\n",
    "                port_to_send = get_start_port(failed_ports=failed_ports)\n",
    "#                 print(f\"PUT port={port_to_send}, key={key}, val={val}\")\n",
    "                response = client_put(port=port_to_send, client_id=CLIENT_ID, key=key, val=val, context=context)\n",
    "                e = time.time()\n",
    "                if response.succ == False:\n",
    "                    print(\"PUT didn't succeed\")\n",
    "                    durations.append((\"put_failed\", e - s))\n",
    "                    continue\n",
    "                durations.append((\"put\", e - s))\n",
    "                keys_in_db[key] = response\n",
    "        except:\n",
    "            pass\n",
    "            \n",
    "    return keys_in_db, durations\n",
    "\n",
    "\n",
    "failed_ports = None\n",
    "keys_in_db = {}\n",
    "states = []\n",
    "\n",
    "for i in range(10):\n",
    "    # do runs 10 times with different configurations of failing nodes\n",
    "    keys_in_db, durations = random_get_put_requests(keys_in_db, failed_ports)\n",
    "    states.append({'failed_ports': failed_ports, 'durations': durations })\n",
    "    failed_ports = wreak_havoc(failed_ports)\n",
    "    print(failed_ports)\n",
    "    \n",
    "\n",
    "\n"
   ]
  },
  {
   "cell_type": "code",
   "execution_count": null,
   "metadata": {},
   "outputs": [],
   "source": [
    "import matplotlib.pyplot as plt\n",
    "import seaborn as sns\n",
    "plt.style.use('seaborn')\n",
    "\n",
    "def plot_graph(durations):\n",
    "    \n",
    "    \n",
    "    def generate_plot(durations, label='', clear=True):\n",
    "        if clear:\n",
    "            plt.clf()\n",
    "        fig = sns.distplot(durations, label=label)\n",
    "        plt.ylabel('Density')\n",
    "        plt.xlabel('Response Time (in ms)')\n",
    "        plt.title('Distribution of response times (in ms)')\n",
    "        plt.legend()\n",
    "        plt.show()\n",
    "    get_durations = []\n",
    "    put_durations = []\n",
    "    \n",
    "    for d_type, t in durations:\n",
    "        if d_type == \"get\":\n",
    "            get_durations.append(t*1000)\n",
    "        else:\n",
    "            put_durations.append(t*1000)\n",
    "    \n",
    "    get_durations = np.asarray(get_durations)\n",
    "    put_durations = np.asarray(put_durations)\n",
    "    \n",
    "    generate_plot(get_durations, label=\"get\")\n",
    "    generate_plot(put_durations, label=\"put\")\n",
    "    \n",
    "plot_graph(durations)"
   ]
  },
  {
   "cell_type": "code",
   "execution_count": null,
   "metadata": {},
   "outputs": [],
   "source": [
    "mem1, replic_mem = client_get_memory(2340)\n",
    "\n",
    "keys = []\n",
    "for k,v in mem1.items():\n",
    "    keys.append(k)\n",
    "\n",
    "k1 = sorted(keys)\n",
    "for k in k1:\n",
    "    print(k)\n",
    "\n",
    "keys = []\n",
    "for _,v in replic_mem.items():\n",
    "    for k,v in v.mem.items():\n",
    "        keys.append(k)\n",
    "\n",
    "k2 = sorted(keys)\n",
    "for k in k2:\n",
    "    print(k)"
   ]
  },
  {
   "cell_type": "code",
   "execution_count": null,
   "metadata": {},
   "outputs": [],
   "source": [
    "client_fail(START_PORT, fail=True)"
   ]
  },
  {
   "cell_type": "code",
   "execution_count": null,
   "metadata": {},
   "outputs": [],
   "source": [
    "response = client_put(START_PORT+1, CLIENT_ID, 0, \"0\")\n",
    "print(response)\n",
    "\n",
    "response = client_get(START_PORT+1, CLIENT_ID, 0)\n",
    "print(response)"
   ]
  },
  {
   "cell_type": "code",
   "execution_count": null,
   "metadata": {
    "scrolled": false
   },
   "outputs": [],
   "source": [
    "# get_fail_durations = np.array([])\n",
    "get_fail_durations, responses = run_multiple_get(30, 10, None, START_PORT)"
   ]
  },
  {
   "cell_type": "code",
   "execution_count": null,
   "metadata": {},
   "outputs": [],
   "source": [
    "get_fail_durations = np.array(get_fail_durations)\n",
    "\n",
    "get_fail_durations.shape"
   ]
  },
  {
   "cell_type": "code",
   "execution_count": null,
   "metadata": {},
   "outputs": [],
   "source": [
    "len(get_fail_durations)"
   ]
  },
  {
   "cell_type": "code",
   "execution_count": null,
   "metadata": {},
   "outputs": [],
   "source": [
    "get_fail_durations*1000"
   ]
  },
  {
   "cell_type": "code",
   "execution_count": null,
   "metadata": {},
   "outputs": [],
   "source": [
    "responses"
   ]
  },
  {
   "cell_type": "code",
   "execution_count": null,
   "metadata": {},
   "outputs": [],
   "source": [
    "get_durations.shape"
   ]
  },
  {
   "cell_type": "code",
   "execution_count": null,
   "metadata": {},
   "outputs": [],
   "source": [
    "test = [0.029925823211669922, 0.03148627281188965, 0.031996965408325195, 0.03176593780517578, 0.031462907791137695, 0.030453920364379883, 0.03252911567687988, 0.0177609920501709, 0.1620798110961914, 0.2121727466583252, 0.22617697715759277, 0.2506279945373535, 0.24697089195251465, 0.29291319847106934, 0.4482302665710449, 0.40848278999328613, 0.48263120651245117]"
   ]
  },
  {
   "cell_type": "code",
   "execution_count": null,
   "metadata": {},
   "outputs": [],
   "source": [
    "len(test)"
   ]
  }
 ],
 "metadata": {
  "kernelspec": {
   "display_name": "Python 3",
   "language": "python",
   "name": "python3"
  },
  "language_info": {
   "codemirror_mode": {
    "name": "ipython",
    "version": 3
   },
   "file_extension": ".py",
   "mimetype": "text/x-python",
   "name": "python",
   "nbconvert_exporter": "python",
   "pygments_lexer": "ipython3",
   "version": "3.6.12"
  }
 },
 "nbformat": 4,
 "nbformat_minor": 4
}
