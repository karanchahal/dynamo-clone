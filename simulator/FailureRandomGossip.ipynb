{
 "cells": [
  {
   "cell_type": "code",
   "execution_count": 8,
   "metadata": {},
   "outputs": [],
   "source": [
    "from tqdm.notebook import tqdm\n",
    "import numpy as np\n",
    "import sys\n",
    "sys.path.append('../')\n",
    "from partitioning import is_pow_of_two, init_membership_list\n",
    "# from spawn import start_db_background\n",
    "from structures import Params, NetworkParams\n",
    "from client_dynamo import client_get, client_put, client_get_memory\n",
    "from parallel_runner import run_parallel\n",
    "from random import randint\n",
    "\n",
    "import logging\n",
    "logger = logging.getLogger('dynamo_node')\n",
    "logger.setLevel(logging.INFO)\n",
    "\n",
    "START_PORT = 2333\n",
    "CLIENT_ID = 1\n",
    "\n",
    "def get_start_port_no_fail(randomize=True):\n",
    "    return START_PORT + randint(0, params.num_proc-1) * int(randomize)\n",
    "\n",
    "def get_stats(durations):\n",
    "    if len(durations) == 0:\n",
    "        return {}\n",
    "    durations = np.array(durations) # convert from seconds to ms\n",
    "    mean = np.mean(durations)\n",
    "    std = np.std(durations)\n",
    "    nnth = np.percentile(durations, 99.9)\n",
    "    return {'mean': mean, 'std': std, '99.9th': nnth}\n",
    "\n",
    "def generate_plot(durations, label='', clear=True):\n",
    "    if clear:\n",
    "        plt.clf()\n",
    "    fig = sns.distplot(durations, label=label)\n",
    "    plt.ylabel('Density')\n",
    "    plt.xlabel('Response Time (in ms)')\n",
    "    plt.title('Distribution of response times (in ms)')\n",
    "    plt.legend()\n",
    "    plt.show()\n"
   ]
  },
  {
   "cell_type": "code",
   "execution_count": 9,
   "metadata": {},
   "outputs": [],
   "source": [
    "params = Params({\n",
    "    'num_proc' : 8,\n",
    "    'hash_size': 8, # 2^3 = 8 \n",
    "    'Q' : 16, # \n",
    "    'N' : 4,\n",
    "    'w_timeout': 2,\n",
    "    'r_timeout': 2,\n",
    "    'R': 1,\n",
    "    'W': 3,\n",
    "    'gossip': True\n",
    "})"
   ]
  },
  {
   "cell_type": "code",
   "execution_count": 10,
   "metadata": {},
   "outputs": [],
   "source": [
    "def run_multiple_get(total, num_requests, get_durations):\n",
    "    for i in tqdm(range(total // num_requests)):\n",
    "        requests = [client_get]*num_requests\n",
    "        requests_params = [{'port': get_start_port_no_fail(), 'client_id': CLIENT_ID, 'key': randint(0, 2**params.hash_size-1)} for _ in range(num_requests)]\n",
    "        get_durations = np.concatenate((get_durations, run_parallel(requests, requests_params, start_port=START_PORT)))\n",
    "    return get_durations\n",
    "\n",
    "def run_multiple_put(total, num_requests, put_durations):\n",
    "    for i in tqdm(range(total // num_requests)):\n",
    "        requests = [client_put]*num_requests\n",
    "        k = randint(0, 2**params.hash_size-1)\n",
    "        requests_params = [{'port': get_start_port_no_fail(), 'client_id': CLIENT_ID, 'key': k, 'val': str(k)} for _ in range(num_requests)]\n",
    "        put_durations = np.concatenate((put_durations, run_parallel(requests, requests_params, start_port=START_PORT)))\n",
    "    return put_durations\n",
    "\n",
    "def store_keys(params):\n",
    "    for key in tqdm(range(2**params.hash_size)):\n",
    "        client_put(get_start_port_no_fail(), CLIENT_ID, key=key, val=str(key))"
   ]
  },
  {
   "cell_type": "code",
   "execution_count": 11,
   "metadata": {
    "scrolled": false
   },
   "outputs": [],
   "source": [
    "# store_keys(params)"
   ]
  },
  {
   "cell_type": "markdown",
   "metadata": {},
   "source": [
    "## With failures"
   ]
  },
  {
   "cell_type": "code",
   "execution_count": 12,
   "metadata": {},
   "outputs": [],
   "source": [
    "import logging\n",
    "logger = logging.getLogger('dynamo_node')\n",
    "logger.setLevel(logging.INFO)\n",
    "# logger.propagate = False"
   ]
  },
  {
   "cell_type": "code",
   "execution_count": 13,
   "metadata": {},
   "outputs": [],
   "source": [
    "def get_start_port(randomize=True, failed_ports=None):\n",
    "    new_port = START_PORT + randint(0, params.num_proc-1) * int(randomize)\n",
    "    while failed_ports is not None and new_port in failed_ports:\n",
    "        new_port = START_PORT + randint(0, params.num_proc-1) * int(randomize)\n",
    "    return new_port\n",
    "\n",
    "def run_multiple_get(total, num_requests, get_durations=None, failed_port=None):\n",
    "    durations, responses = [], []\n",
    "    for i in tqdm(range(total // num_requests)):\n",
    "        requests = [client_get]*num_requests\n",
    "        key = randint(0, 2**params.hash_size-1)\n",
    "#         while (key >= 176 and key <= 191) or (key >= 208 and key <= 223):\n",
    "#             # dont want a key to go to a failed coordinator node\n",
    "#             key = randint(0, 2**params.hash_size-1)                             \n",
    "        requests_params = [{'port': get_start_port(failed_port=failed_port), 'client_id': CLIENT_ID, 'key': key} for _ in range(num_requests)]\n",
    "        _durations, _responses = run_parallel(requests, requests_params, start_port=START_PORT, as_np=False)\n",
    "        print(len(_durations))\n",
    "        durations.extend(_durations)\n",
    "        responses.extend(_responses)\n",
    "    return durations, responses"
   ]
  },
  {
   "cell_type": "code",
   "execution_count": 14,
   "metadata": {},
   "outputs": [
    {
     "data": {
      "application/vnd.jupyter.widget-view+json": {
       "model_id": "df71be89c98742abba6bfc43534d03d2",
       "version_major": 2,
       "version_minor": 0
      },
      "text/plain": [
       "HBox(children=(HTML(value=''), FloatProgress(value=0.0, max=1000.0), HTML(value='')))"
      ]
     },
     "metadata": {},
     "output_type": "display_data"
    },
    {
     "name": "stdout",
     "output_type": "stream",
     "text": [
      "\n",
      "[2337]\n"
     ]
    },
    {
     "data": {
      "application/vnd.jupyter.widget-view+json": {
       "model_id": "937d8ba6bcd24fd5b79769ead8f9dab5",
       "version_major": 2,
       "version_minor": 0
      },
      "text/plain": [
       "HBox(children=(HTML(value=''), FloatProgress(value=0.0, max=1000.0), HTML(value='')))"
      ]
     },
     "metadata": {},
     "output_type": "display_data"
    },
    {
     "name": "stdout",
     "output_type": "stream",
     "text": [
      "\n",
      "[2337, 2333]\n"
     ]
    },
    {
     "data": {
      "application/vnd.jupyter.widget-view+json": {
       "model_id": "5c930fd419a9471998a578d8919d0c3a",
       "version_major": 2,
       "version_minor": 0
      },
      "text/plain": [
       "HBox(children=(HTML(value=''), FloatProgress(value=0.0, max=1000.0), HTML(value='')))"
      ]
     },
     "metadata": {},
     "output_type": "display_data"
    },
    {
     "name": "stdout",
     "output_type": "stream",
     "text": [
      "\n",
      "[2337, 2333, 2334]\n"
     ]
    },
    {
     "data": {
      "application/vnd.jupyter.widget-view+json": {
       "model_id": "a6f1aee7ae68487b93221a2e3a99965e",
       "version_major": 2,
       "version_minor": 0
      },
      "text/plain": [
       "HBox(children=(HTML(value=''), FloatProgress(value=0.0, max=1000.0), HTML(value='')))"
      ]
     },
     "metadata": {},
     "output_type": "display_data"
    },
    {
     "name": "stdout",
     "output_type": "stream",
     "text": [
      "\n",
      "[2337, 2333, 2334, 2339]\n"
     ]
    },
    {
     "data": {
      "application/vnd.jupyter.widget-view+json": {
       "model_id": "3730168947044a1fb2c8c6aa854e068e",
       "version_major": 2,
       "version_minor": 0
      },
      "text/plain": [
       "HBox(children=(HTML(value=''), FloatProgress(value=0.0, max=1000.0), HTML(value='')))"
      ]
     },
     "metadata": {},
     "output_type": "display_data"
    },
    {
     "name": "stdout",
     "output_type": "stream",
     "text": [
      "\n",
      "[2340]\n"
     ]
    },
    {
     "data": {
      "application/vnd.jupyter.widget-view+json": {
       "model_id": "12959bfcefed48e9bd09eec3c6f24302",
       "version_major": 2,
       "version_minor": 0
      },
      "text/plain": [
       "HBox(children=(HTML(value=''), FloatProgress(value=0.0, max=1000.0), HTML(value='')))"
      ]
     },
     "metadata": {},
     "output_type": "display_data"
    },
    {
     "name": "stdout",
     "output_type": "stream",
     "text": [
      "\n",
      "[2340, 2334]\n"
     ]
    },
    {
     "data": {
      "application/vnd.jupyter.widget-view+json": {
       "model_id": "48e55fa265024c43b4a71c2d9b4f2bed",
       "version_major": 2,
       "version_minor": 0
      },
      "text/plain": [
       "HBox(children=(HTML(value=''), FloatProgress(value=0.0, max=1000.0), HTML(value='')))"
      ]
     },
     "metadata": {},
     "output_type": "display_data"
    },
    {
     "name": "stdout",
     "output_type": "stream",
     "text": [
      "\n",
      "[2340, 2334, 2339]\n"
     ]
    },
    {
     "data": {
      "application/vnd.jupyter.widget-view+json": {
       "model_id": "cee47ffdd2104587a4fe3c44620b8a57",
       "version_major": 2,
       "version_minor": 0
      },
      "text/plain": [
       "HBox(children=(HTML(value=''), FloatProgress(value=0.0, max=1000.0), HTML(value='')))"
      ]
     },
     "metadata": {},
     "output_type": "display_data"
    },
    {
     "name": "stdout",
     "output_type": "stream",
     "text": [
      "\n",
      "[2340, 2334, 2339, 2338]\n"
     ]
    },
    {
     "data": {
      "application/vnd.jupyter.widget-view+json": {
       "model_id": "09200da87b2546568f1f8d904e3537a3",
       "version_major": 2,
       "version_minor": 0
      },
      "text/plain": [
       "HBox(children=(HTML(value=''), FloatProgress(value=0.0, max=1000.0), HTML(value='')))"
      ]
     },
     "metadata": {},
     "output_type": "display_data"
    },
    {
     "name": "stdout",
     "output_type": "stream",
     "text": [
      "\n",
      "[2338]\n"
     ]
    },
    {
     "data": {
      "application/vnd.jupyter.widget-view+json": {
       "model_id": "dda1ff7c63c04b78839fb4b99ac10d21",
       "version_major": 2,
       "version_minor": 0
      },
      "text/plain": [
       "HBox(children=(HTML(value=''), FloatProgress(value=0.0, max=1000.0), HTML(value='')))"
      ]
     },
     "metadata": {},
     "output_type": "display_data"
    },
    {
     "name": "stdout",
     "output_type": "stream",
     "text": [
      "\n",
      "[2338, 2334]\n"
     ]
    }
   ],
   "source": [
    "from client_dynamo import client_fail\n",
    "import random\n",
    "import time\n",
    "\n",
    "def wreak_havoc(failed_ports):\n",
    "    '''\n",
    "    returns updated list of failing nodes\n",
    "    '''\n",
    "    # bring some failed nodes back online\n",
    "    \n",
    "    # fail some other nodes randomly\n",
    "    ports_to_unfail = []\n",
    "    if failed_ports != None and len(failed_ports) >3:\n",
    "        ports_to_unfail = failed_ports[:3]\n",
    "        failed_ports = failed_ports[4:]\n",
    "    \n",
    "    for n in ports_to_unfail:\n",
    "        client_fail(n, fail=False)\n",
    "        \n",
    "    new_candidate_for_failure = get_start_port(failed_ports=failed_ports)\n",
    "    \n",
    "    client_fail(new_candidate_for_failure, fail=True)\n",
    "    \n",
    "    if failed_ports == None:\n",
    "        failed_ports = [new_candidate_for_failure]\n",
    "    else:\n",
    "        failed_ports.append(new_candidate_for_failure)\n",
    "    \n",
    "    return failed_ports\n",
    "    \n",
    "    \n",
    "import random\n",
    "def random_get_put_requests(keys_in_db={}, failed_ports=None):\n",
    "    '''\n",
    "    Make 100 random get or put requests\n",
    "    '''\n",
    "    durations = []\n",
    "    for i in tqdm(range(1000)):\n",
    "        time.sleep(random.uniform(0.4, 0.6))\n",
    "        try:\n",
    "            p = random.uniform(0,1)\n",
    "\n",
    "            if p >= 0.5 and keys_in_db != {}:\n",
    "                key = randint(0, 2**params.hash_size-1)\n",
    "\n",
    "                while key not in keys_in_db:\n",
    "                    key = randint(0, 2**params.hash_size-1)\n",
    "\n",
    "                s = time.time()\n",
    "                port_to_send = get_start_port(failed_ports=failed_ports)\n",
    "#                 print(f\"GET port={port_to_send}, key={key}\")\n",
    "                response = client_get(port=port_to_send, client_id=CLIENT_ID, key=key)\n",
    "                e = time.time()\n",
    "                if response.succ == False:\n",
    "                    print(\"GET didn't succeed\")\n",
    "                    durations.append((\"get_failed\", e - s))\n",
    "                    continue\n",
    "                # TODO: see if any versions diverge ?\n",
    "\n",
    "                \n",
    "                durations.append((\"get\", e - s))\n",
    "            else:\n",
    "                # send 1 put request\n",
    "                key = randint(0, 2**params.hash_size-1)\n",
    "                val = str(key)\n",
    "                context = None\n",
    "                if key in keys_in_db:\n",
    "                    # use the vector clock returned by that key\n",
    "                    try:\n",
    "                        context = keys_in_db[key].context\n",
    "                    except:\n",
    "                        print(keys_in_db[key])\n",
    "                        raise NotImplementedError\n",
    "                s = time.time()\n",
    "                port_to_send = get_start_port(failed_ports=failed_ports)\n",
    "#                 print(f\"PUT port={port_to_send}, key={key}, val={val}\")\n",
    "                response = client_put(port=port_to_send, client_id=CLIENT_ID, key=key, val=val, context=context)\n",
    "                e = time.time()\n",
    "                if response.succ == False:\n",
    "                    print(\"PUT didn't succeed\")\n",
    "                    durations.append((\"put_failed\", e - s))\n",
    "                    continue\n",
    "                durations.append((\"put\", e - s))\n",
    "                keys_in_db[key] = response\n",
    "        except:\n",
    "            pass\n",
    "            \n",
    "    return keys_in_db, durations\n",
    "\n",
    "\n",
    "failed_ports = None\n",
    "keys_in_db = {}\n",
    "states = []\n",
    "\n",
    "for i in range(10):\n",
    "    # do runs 10 times with different configurations of failing nodes\n",
    "    keys_in_db, durations = random_get_put_requests(keys_in_db, failed_ports)\n",
    "    states.append({'failed_ports': failed_ports, 'durations': durations })\n",
    "    failed_ports = wreak_havoc(failed_ports)\n",
    "    print(failed_ports)\n",
    "    time.sleep(2)"
   ]
  },
  {
   "cell_type": "code",
   "execution_count": null,
   "metadata": {},
   "outputs": [],
   "source": [
    "import matplotlib.pyplot as plt\n",
    "import seaborn as sns\n",
    "plt.style.use('seaborn')\n",
    "plt.clf()\n",
    "def plot_graph(ax, durations, num_failed_ports):\n",
    "    \n",
    "    \n",
    "    def generate_plot(durations, color, label='', clear=True, ax=None):\n",
    "#         if clear:\n",
    "#             plt.clf()\n",
    "        axs = sns.histplot(durations, label=label, color=color, kde=True, ax=ax)\n",
    "        return ax\n",
    "    get_durations = []\n",
    "    put_durations = []\n",
    "    put_fail_durations = []\n",
    "    get_fail_durations = []\n",
    "    \n",
    "    for d_type, t in durations:\n",
    "        if d_type == \"get\":\n",
    "            get_durations.append(t*1000)\n",
    "        elif d_type == \"put\":\n",
    "            put_durations.append(t*1000)\n",
    "        elif d_type == \"put_failed\":\n",
    "            put_fail_durations.append(t*1000)\n",
    "        elif d_type == \"get_failed\":\n",
    "            get_fail_durations.append(t*1000)\n",
    "    \n",
    "    get_durations = np.asarray(get_durations)\n",
    "    put_durations = np.asarray(put_durations)\n",
    "    get_fail_durations = np.asarray(get_fail_durations)\n",
    "    put_fail_durations = np.asarray(put_fail_durations)\n",
    "    \n",
    "    ax = generate_plot(get_durations, color='blue', label=\"get\", clear=True, ax=ax)\n",
    "    ax = generate_plot(put_durations, color='green', label=\"put\", clear=False, ax=ax)\n",
    "    ax = generate_plot(get_fail_durations, color='red', label=\"get_failed\", clear=False, ax=ax)\n",
    "    ax = generate_plot(put_fail_durations, color='yellow',label=\"put_failed\", clear=False, ax=ax)\n",
    "    ax.set_title(f'Failed Ports: {num_failed_ports}')\n",
    "    ax.legend()\n",
    "#     plt.ylabel('Density')\n",
    "#     plt.xlabel('Response Time (in ms)')\n",
    "#     plt.title(f'Distribution of response times (in ms) | Failed Ports: {num_failed_ports}')\n",
    "#     plt.legend()\n",
    "#     plt.show()\n",
    "\n",
    "fig, axs = plt.subplots(2,5, figsize=(20,14))\n",
    "for i in range(10):\n",
    "    if states[i]['failed_ports'] == None:\n",
    "        num_failed_ports = 0\n",
    "    else:\n",
    "        num_failed_ports = len(states[i]['failed_ports'])\n",
    "    x = int(i / 5)\n",
    "    y = int(i % 5)\n",
    "    print(x, y)\n",
    "    plot_graph(axs[x,y], states[i]['durations'], num_failed_ports=num_failed_ports)\n",
    "\n",
    "plt.show()\n",
    "fig.savefig('gossip-1-1.2.png')"
   ]
  },
  {
   "cell_type": "markdown",
   "metadata": {},
   "source": [
    "### Failures per second analysis"
   ]
  },
  {
   "cell_type": "code",
   "execution_count": null,
   "metadata": {},
   "outputs": [],
   "source": [
    "def random_get_put_requests_failure(keys_in_db={}, failed_ports=None, failures_per_second=1):\n",
    "    '''\n",
    "    Make 100 random get or put requests\n",
    "    '''\n",
    "    time_since_failure = 0\n",
    "    fail_time = 1 / failures_per_sec\n",
    "    failed_ports = []\n",
    "    durations = []\n",
    "    for i in tqdm(range(1000)):\n",
    "        time.sleep(random.uniform(0.4, 0.6))\n",
    "        try:\n",
    "            p = random.uniform(0,1)\n",
    "\n",
    "            if p >= 0.5 and keys_in_db != {}:\n",
    "                key = randint(0, 2**params.hash_size-1)\n",
    "\n",
    "                while key not in keys_in_db:\n",
    "                    key = randint(0, 2**params.hash_size-1)\n",
    "\n",
    "                s = time.time()\n",
    "                port_to_send = get_start_port(failed_ports=failed_ports)\n",
    "#                 print(f\"GET port={port_to_send}, key={key}\")\n",
    "                response = client_get(port=port_to_send, client_id=CLIENT_ID, key=key)\n",
    "                e = time.time()\n",
    "                    \n",
    "                if response.succ == False:\n",
    "                    print(\"GET didn't succeed\")\n",
    "                    durations.append((\"get_failed\", e - s))\n",
    "                    continue\n",
    "                # TODO: see if any versions diverge ?\n",
    "\n",
    "                durations.append((\"get\", e - s))\n",
    "            else:\n",
    "                # send 1 put request\n",
    "                key = randint(0, 2**params.hash_size-1)\n",
    "                val = str(key)\n",
    "                context = None\n",
    "                if key in keys_in_db:\n",
    "                    # use the vector clock returned by that key\n",
    "                    try:\n",
    "                        context = keys_in_db[key].context\n",
    "                    except:\n",
    "                        print(keys_in_db[key])\n",
    "                        raise NotImplementedError\n",
    "                s = time.time()\n",
    "                port_to_send = get_start_port(failed_ports=failed_ports)\n",
    "#                 print(f\"PUT port={port_to_send}, key={key}, val={val}\")\n",
    "                response = client_put(port=port_to_send, client_id=CLIENT_ID, key=key, val=val, context=context)\n",
    "                e = time.time()\n",
    "                if response.succ == False:\n",
    "                    print(\"PUT didn't succeed\")\n",
    "                    durations.append((\"put_failed\", e - s))\n",
    "                    continue\n",
    "                durations.append((\"put\", e - s))\n",
    "                keys_in_db[key] = response\n",
    "            \n",
    "            # Check if it's time to fail\n",
    "            time_since_failure += e-s\n",
    "            if time_since_failure >= fail_time:\n",
    "                failed_ports = wreak_havoc(failed_ports)\n",
    "                time_since_failure = 0\n",
    "        except:\n",
    "            pass\n",
    "            \n",
    "    return keys_in_db, durations\n",
    "\n",
    "\n",
    "failed_ports = None\n",
    "keys_in_db = {}\n",
    "states = []\n",
    "\n",
    "for i in range(10):\n",
    "    # do runs 10 times with different configurations of failing nodes\n",
    "    keys_in_db, durations = random_get_put_requests(keys_in_db, failed_ports)\n",
    "    states.append({'failed_ports': failed_ports, 'durations': durations })\n",
    "    failed_ports = wreak_havoc(failed_ports)\n",
    "    print(failed_ports)\n",
    "    time.sleep(2)"
   ]
  },
  {
   "cell_type": "code",
   "execution_count": null,
   "metadata": {},
   "outputs": [],
   "source": []
  }
 ],
 "metadata": {
  "kernelspec": {
   "display_name": "Python 3",
   "language": "python",
   "name": "python3"
  },
  "language_info": {
   "codemirror_mode": {
    "name": "ipython",
    "version": 3
   },
   "file_extension": ".py",
   "mimetype": "text/x-python",
   "name": "python",
   "nbconvert_exporter": "python",
   "pygments_lexer": "ipython3",
   "version": "3.8.5"
  }
 },
 "nbformat": 4,
 "nbformat_minor": 4
}
