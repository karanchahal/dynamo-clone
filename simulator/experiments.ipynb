{
 "cells": [
  {
   "cell_type": "code",
   "execution_count": 1,
   "metadata": {},
   "outputs": [
    {
     "name": "stdout",
     "output_type": "stream",
     "text": [
      "16 and True\n",
      "8 and True\n",
      "Configuration is as follows: Key space sizes 256\n",
      "Total V Nodes 16 | V Nodes Per Proc 2\n"
     ]
    }
   ],
   "source": [
    "from tqdm.notebook import tqdm\n",
    "import numpy as np\n",
    "import sys\n",
    "sys.path.append('../')\n",
    "from partitioning import is_pow_of_two, init_membership_list\n",
    "from spawn import start_db_background\n",
    "from structures import Params, NetworkParams\n",
    "from client_dynamo import client_get, client_put\n",
    "from parallel_runner import run_parallel\n",
    "from random import randint\n",
    "\n",
    "import logging\n",
    "logger = logging.getLogger('dynamo_node')\n",
    "logger.setLevel(logging.ERROR)\n",
    "\n",
    "START_PORT = 2333\n",
    "CLIENT_ID = 1\n",
    "\n",
    "def get_start_port(randomize=True):\n",
    "    return START_PORT + randint(0, params.num_proc-1) * int(randomize)\n",
    "\n",
    "def get_stats(durations):\n",
    "    if len(durations) == 0:\n",
    "        return {}\n",
    "    durations = np.array(durations) # convert from seconds to ms\n",
    "    mean = np.mean(durations)\n",
    "    std = np.std(durations)\n",
    "    nnth = np.percentile(durations, 99.9)\n",
    "    return {'mean': mean, 'std': std, '99.9th': nnth}\n",
    "\n",
    "def generate_plot(durations, label='', clear=True):\n",
    "    if clear:\n",
    "        plt.clf()\n",
    "    fig = sns.distplot(durations, label=label)\n",
    "    plt.ylabel('Density')\n",
    "    plt.xlabel('Response Time (in ms)')\n",
    "    plt.title('Distribution of response times (in ms)')\n",
    "    plt.legend()\n",
    "    plt.show()\n",
    "\n",
    "params = {\n",
    "    'num_proc' : 8,\n",
    "    'hash_size': 8, # 2^3 = 8 \n",
    "    'Q' : 16, # \n",
    "    'N' : 4,\n",
    "    'w_timeout': 2,\n",
    "    'r_timeout': 2,\n",
    "    'R': 1,\n",
    "    'W': 3,\n",
    "    'gossip': False\n",
    "}\n",
    "network_params = {\n",
    "    'latency': 10,\n",
    "    'randomize_latency': False,\n",
    "    'drop_prob': 0\n",
    "}\n",
    "\n",
    "params = Params(params)\n",
    "network_params = NetworkParams(network_params)\n",
    "membership_information = init_membership_list(params)"
   ]
  },
  {
   "cell_type": "code",
   "execution_count": 2,
   "metadata": {},
   "outputs": [
    {
     "name": "stdout",
     "output_type": "stream",
     "text": [
      "Membership Info {0: [9, 13], 1: [5, 12], 2: [1, 4], 3: [6, 8], 4: [2, 15], 5: [14, 0], 6: [10, 3], 7: [7, 11]} NUmber of processes 8\n",
      "0\n",
      "--------Starting process with params: Loading config..\n",
      "num_proc : 8\n",
      "hash_size : 8\n",
      "Q : 16\n",
      "N : 4\n",
      "w_timeout : 2\n",
      "r_timeout : 2\n",
      "R : 1\n",
      "W : 3\n",
      "gossip : False\n",
      "\n",
      "here False\n",
      "not here\n",
      "------------------start Python GRPC server at localhost:2333\n",
      "1\n",
      "--------Starting process with params: Loading config..\n",
      "num_proc : 8\n",
      "hash_size : 8\n",
      "Q : 16\n",
      "N : 4\n",
      "w_timeout : 2\n",
      "r_timeout : 2\n",
      "R : 1\n",
      "W : 3\n",
      "gossip : False\n",
      "\n",
      "here False\n",
      "not here\n",
      "------------------start Python GRPC server at localhost:2334\n",
      "2\n",
      "--------Starting process with params: Loading config..\n",
      "num_proc : 8\n",
      "hash_size : 8\n",
      "Q : 16\n",
      "N : 4\n",
      "w_timeout : 2\n",
      "r_timeout : 2\n",
      "R : 1\n",
      "W : 3\n",
      "gossip : False\n",
      "\n",
      "here False\n",
      "not here\n",
      "------------------start Python GRPC server at localhost:2335\n",
      "3\n",
      "--------Starting process with params: Loading config..\n",
      "num_proc : 8\n",
      "hash_size : 8\n",
      "Q : 16\n",
      "N : 4\n",
      "w_timeout : 2\n",
      "r_timeout : 2\n",
      "R : 1\n",
      "W : 3\n",
      "gossip : False\n",
      "\n",
      "here False\n",
      "not here\n",
      "------------------start Python GRPC server at localhost:2336\n",
      "4\n",
      "--------Starting process with params: Loading config..\n",
      "num_proc : 8\n",
      "hash_size : 8\n",
      "Q : 16\n",
      "N : 4\n",
      "w_timeout : 2\n",
      "r_timeout : 2\n",
      "R : 1\n",
      "W : 3\n",
      "gossip : False\n",
      "\n",
      "here False\n",
      "not here\n",
      "------------------start Python GRPC server at localhost:2337\n",
      "5\n",
      "--------Starting process with params: Loading config..\n",
      "num_proc : 8\n",
      "hash_size : 8\n",
      "Q : 16\n",
      "N : 4\n",
      "w_timeout : 2\n",
      "r_timeout : 2\n",
      "R : 1\n",
      "W : 3\n",
      "gossip : False\n",
      "\n",
      "here False\n",
      "not here\n",
      "------------------start Python GRPC server at localhost:2338\n",
      "6\n",
      "--------Starting process with params: Loading config..\n",
      "num_proc : 8\n",
      "hash_size : 8\n",
      "Q : 16\n",
      "N : 4\n",
      "w_timeout : 2\n",
      "r_timeout : 2\n",
      "R : 1\n",
      "W : 3\n",
      "gossip : False\n",
      "\n",
      "here False\n",
      "not here\n",
      "------------------start Python GRPC server at localhost:2339\n",
      "7\n",
      "--------Starting process with params: Loading config..\n",
      "num_proc : 8\n",
      "hash_size : 8\n",
      "Q : 16\n",
      "N : 4\n",
      "w_timeout : 2\n",
      "r_timeout : 2\n",
      "R : 1\n",
      "W : 3\n",
      "gossip : False\n",
      "\n",
      "here False\n",
      "not here\n",
      "------------------start Python GRPC server at localhost:2340\n"
     ]
    }
   ],
   "source": [
    "processes_future = start_db_background(params, membership_information, network_params, wait=True, start_port=START_PORT)"
   ]
  },
  {
   "cell_type": "code",
   "execution_count": 3,
   "metadata": {},
   "outputs": [],
   "source": [
    "def run_multiple_get(total, num_requests, get_durations):\n",
    "    for i in tqdm(range(total // num_requests)):\n",
    "        requests = [client_get]*num_requests\n",
    "        requests_params = [{'port': get_start_port(), 'client_id': CLIENT_ID, 'key': randint(0, 2**params.hash_size-1)} for _ in range(num_requests)]\n",
    "        get_durations = np.concatenate((get_durations, run_parallel(requests, requests_params, start_port=START_PORT)))\n",
    "    return get_durations\n",
    "\n",
    "def run_multiple_put(total, num_requests, put_durations):\n",
    "    for i in tqdm(range(total // num_requests)):\n",
    "        requests = [client_put]*num_requests\n",
    "        k = randint(0, 2**params.hash_size-1)\n",
    "        requests_params = [{'port': get_start_port(), 'client_id': CLIENT_ID, 'key': k, 'val': str(k)} for _ in range(num_requests)]\n",
    "        put_durations = np.concatenate((put_durations, run_parallel(requests, requests_params, start_port=START_PORT)))\n",
    "    return put_durations\n",
    "\n",
    "def store_keys(params):\n",
    "    for key in tqdm(range(2**params.hash_size)):\n",
    "        client_put(get_start_port(), CLIENT_ID, key=key, val=str(key))"
   ]
  },
  {
   "cell_type": "code",
   "execution_count": 4,
   "metadata": {},
   "outputs": [
    {
     "data": {
      "application/vnd.jupyter.widget-view+json": {
       "model_id": "db9a87080fa2486389295b976da51120",
       "version_major": 2,
       "version_minor": 0
      },
      "text/plain": [
       "HBox(children=(HTML(value=''), FloatProgress(value=0.0, max=256.0), HTML(value='')))"
      ]
     },
     "metadata": {},
     "output_type": "display_data"
    },
    {
     "name": "stdout",
     "output_type": "stream",
     "text": [
      "\n"
     ]
    }
   ],
   "source": [
    "store_keys(params)"
   ]
  },
  {
   "cell_type": "code",
   "execution_count": 5,
   "metadata": {
    "scrolled": true
   },
   "outputs": [],
   "source": [
    "context=None\n",
    "response = client_put(get_start_port(), CLIENT_ID, key=16, val=\"16\", context=context)\n",
    "\n",
    "response = client_get(get_start_port(), CLIENT_ID, key=1)\n",
    "context = response.items[0].context"
   ]
  },
  {
   "cell_type": "code",
   "execution_count": 17,
   "metadata": {},
   "outputs": [
    {
     "data": {
      "application/vnd.jupyter.widget-view+json": {
       "model_id": "ca705629f2904f90a9cdf61bfbd06426",
       "version_major": 2,
       "version_minor": 0
      },
      "text/plain": [
       "HBox(children=(HTML(value=''), FloatProgress(value=0.0), HTML(value='')))"
      ]
     },
     "metadata": {},
     "output_type": "display_data"
    },
    {
     "name": "stdout",
     "output_type": "stream",
     "text": [
      "\n"
     ]
    }
   ],
   "source": [
    "get_durations = np.array([])\n",
    "get_durations = run_multiple_get(1000, 10, get_durations)\n",
    "get_durations *= 1000"
   ]
  },
  {
   "cell_type": "code",
   "execution_count": 18,
   "metadata": {},
   "outputs": [
    {
     "data": {
      "text/plain": [
       "(1000,)"
      ]
     },
     "execution_count": 18,
     "metadata": {},
     "output_type": "execute_result"
    }
   ],
   "source": [
    "get_durations.shape"
   ]
  },
  {
   "cell_type": "code",
   "execution_count": 20,
   "metadata": {},
   "outputs": [
    {
     "data": {
      "text/plain": [
       "(26.208847999572754, 4.892119309256952)"
      ]
     },
     "execution_count": 20,
     "metadata": {},
     "output_type": "execute_result"
    }
   ],
   "source": [
    "get_durations.mean(), get_durations.std()"
   ]
  },
  {
   "cell_type": "code",
   "execution_count": 21,
   "metadata": {},
   "outputs": [],
   "source": [
    "stats_get = get_stats(get_durations)"
   ]
  },
  {
   "cell_type": "code",
   "execution_count": 22,
   "metadata": {},
   "outputs": [
    {
     "name": "stdout",
     "output_type": "stream",
     "text": [
      "mean: 26.21 ms\n",
      "std: 4.89 ms\n",
      "99.9th: 35.26 ms\n"
     ]
    }
   ],
   "source": [
    "for k,v in stats_get.items():\n",
    "    print(f'{k}: {v:.2f} ms')"
   ]
  },
  {
   "cell_type": "code",
   "execution_count": 32,
   "metadata": {},
   "outputs": [
    {
     "data": {
      "application/vnd.jupyter.widget-view+json": {
       "model_id": "0f16a0da715b479baf6e08f26ef43c40",
       "version_major": 2,
       "version_minor": 0
      },
      "text/plain": [
       "HBox(children=(HTML(value=''), FloatProgress(value=0.0), HTML(value='')))"
      ]
     },
     "metadata": {},
     "output_type": "display_data"
    },
    {
     "name": "stdout",
     "output_type": "stream",
     "text": [
      "\n"
     ]
    }
   ],
   "source": [
    "put_durations = np.array([])\n",
    "put_durations = run_multiple_put(1000, 10, put_durations)\n",
    "put_durations *= 1000"
   ]
  },
  {
   "cell_type": "code",
   "execution_count": 33,
   "metadata": {},
   "outputs": [
    {
     "data": {
      "text/plain": [
       "(1000,)"
      ]
     },
     "execution_count": 33,
     "metadata": {},
     "output_type": "execute_result"
    }
   ],
   "source": [
    "put_durations.shape"
   ]
  },
  {
   "cell_type": "code",
   "execution_count": 35,
   "metadata": {},
   "outputs": [],
   "source": [
    "put_stats = get_stats(put_durations)"
   ]
  },
  {
   "cell_type": "code",
   "execution_count": 36,
   "metadata": {},
   "outputs": [
    {
     "name": "stdout",
     "output_type": "stream",
     "text": [
      "mean: 44.31 ms\n",
      "std: 5.84 ms\n",
      "99.9th: 79.99 ms\n"
     ]
    }
   ],
   "source": [
    "for k,v in put_stats.items():\n",
    "    print(f'{k}: {v:.2f} ms')"
   ]
  },
  {
   "cell_type": "code",
   "execution_count": 37,
   "metadata": {},
   "outputs": [],
   "source": [
    "import matplotlib.pyplot as plt\n",
    "import seaborn as sns\n",
    "plt.style.use('seaborn')"
   ]
  },
  {
   "cell_type": "code",
   "execution_count": 38,
   "metadata": {},
   "outputs": [
    {
     "name": "stderr",
     "output_type": "stream",
     "text": [
      "/opt/miniconda3/envs/dynamo/lib/python3.8/site-packages/seaborn/distributions.py:2551: FutureWarning: `distplot` is a deprecated function and will be removed in a future version. Please adapt your code to use either `displot` (a figure-level function with similar flexibility) or `histplot` (an axes-level function for histograms).\n",
      "  warnings.warn(msg, FutureWarning)\n",
      "/opt/miniconda3/envs/dynamo/lib/python3.8/site-packages/seaborn/distributions.py:2551: FutureWarning: `distplot` is a deprecated function and will be removed in a future version. Please adapt your code to use either `displot` (a figure-level function with similar flexibility) or `histplot` (an axes-level function for histograms).\n",
      "  warnings.warn(msg, FutureWarning)\n"
     ]
    },
    {
     "data": {
      "image/png": "[encoded data removed]",
      "text/plain": [
       "<Figure size 576x396 with 1 Axes>"
      ]
     },
     "metadata": {},
     "output_type": "display_data"
    }
   ],
   "source": [
    "fig = sns.distplot(get_durations, label='GET')\n",
    "fig = sns.distplot(put_durations, label='PUT')\n",
    "plt.ylabel('Density')\n",
    "plt.xlabel('Response Time (in ms)')\n",
    "plt.title('N:4, R:1, W:3')\n",
    "plt.legend()\n",
    "plt.show()"
   ]
  },
  {
   "cell_type": "markdown",
   "metadata": {},
   "source": [
    "## With failures"
   ]
  },
  {
   "cell_type": "code",
   "execution_count": 5,
   "metadata": {},
   "outputs": [],
   "source": [
    "import logging\n",
    "logger = logging.getLogger('dynamo_node')\n",
    "logger.setLevel(logging.INFO)\n",
    "logger.propagate = False\n",
    "\n",
    "def get_start_port(randomize=True, failed_port=None):\n",
    "    new_port = START_PORT + randint(0, params.num_proc-1) * int(randomize)\n",
    "    while failed_port is not None and new_port == failed_port:\n",
    "        new_port = START_PORT + randint(0, params.num_proc-1) * int(randomize)\n",
    "    return new_port\n",
    "\n",
    "def run_multiple_get(total, num_requests, get_durations=None, failed_port=None):\n",
    "    durations, responses = [], []\n",
    "    for i in tqdm(range(total // num_requests)):\n",
    "        requests = [client_get]*num_requests\n",
    "        requests_params = [{'port': get_start_port(failed_port=failed_port), 'client_id': CLIENT_ID, 'key': randint(0, 2**params.hash_size-1)} for _ in range(num_requests)]\n",
    "        _durations, _responses = run_parallel(requests, requests_params, start_port=START_PORT, as_np=False)\n",
    "        print(len(_durations))\n",
    "        durations.extend(_durations)\n",
    "        responses.extend(_responses)\n",
    "    return durations, responses"
   ]
  },
  {
   "cell_type": "code",
   "execution_count": 6,
   "metadata": {},
   "outputs": [],
   "source": [
    "from client_dynamo import client_fail\n",
    "\n",
    "client_fail(START_PORT)"
   ]
  },
  {
   "cell_type": "code",
   "execution_count": 7,
   "metadata": {},
   "outputs": [
    {
     "name": "stderr",
     "output_type": "stream",
     "text": [
      "ERROR:grpc._server:Exception calling application: \n",
      "Traceback (most recent call last):\n",
      "  File \"/opt/miniconda3/envs/dynamo/lib/python3.8/site-packages/grpc/_server.py\", line 435, in _call_behavior\n",
      "    response_or_iterator = behavior(argument, context)\n",
      "  File \"../dynamo_node.py\", line 315, in Put\n",
      "    raise concurrent.futures.CancelledError # retirning None will result in failure\n",
      "concurrent.futures._base.CancelledError\n"
     ]
    },
    {
     "ename": "_InactiveRpcError",
     "evalue": "<_InactiveRpcError of RPC that terminated with:\n\tstatus = StatusCode.UNKNOWN\n\tdetails = \"Exception calling application: \"\n\tdebug_error_string = \"{\"created\":\"@1607554502.575614000\",\"description\":\"Error received from peer ipv6:[::1]:2333\",\"file\":\"src/core/lib/surface/call.cc\",\"file_line\":1062,\"grpc_message\":\"Exception calling application: \",\"grpc_status\":2}\"\n>",
     "output_type": "error",
     "traceback": [
      "\u001b[0;31m---------------------------------------------------------------------------\u001b[0m",
      "\u001b[0;31m_InactiveRpcError\u001b[0m                         Traceback (most recent call last)",
      "\u001b[0;32m<ipython-input-7-4afe2c1c116f>\u001b[0m in \u001b[0;36m<module>\u001b[0;34m\u001b[0m\n\u001b[0;32m----> 1\u001b[0;31m \u001b[0mresponse\u001b[0m \u001b[0;34m=\u001b[0m \u001b[0mclient_put\u001b[0m\u001b[0;34m(\u001b[0m\u001b[0mSTART_PORT\u001b[0m\u001b[0;34m+\u001b[0m\u001b[0;36m1\u001b[0m\u001b[0;34m,\u001b[0m \u001b[0mCLIENT_ID\u001b[0m\u001b[0;34m,\u001b[0m \u001b[0;36m0\u001b[0m\u001b[0;34m,\u001b[0m \u001b[0;34m\"0\"\u001b[0m\u001b[0;34m)\u001b[0m\u001b[0;34m\u001b[0m\u001b[0;34m\u001b[0m\u001b[0m\n\u001b[0m\u001b[1;32m      2\u001b[0m \u001b[0mprint\u001b[0m\u001b[0;34m(\u001b[0m\u001b[0mresponse\u001b[0m\u001b[0;34m)\u001b[0m\u001b[0;34m\u001b[0m\u001b[0;34m\u001b[0m\u001b[0m\n\u001b[1;32m      3\u001b[0m \u001b[0;34m\u001b[0m\u001b[0m\n\u001b[1;32m      4\u001b[0m \u001b[0mresponse\u001b[0m \u001b[0;34m=\u001b[0m \u001b[0mclient_get\u001b[0m\u001b[0;34m(\u001b[0m\u001b[0mSTART_PORT\u001b[0m\u001b[0;34m+\u001b[0m\u001b[0;36m1\u001b[0m\u001b[0;34m,\u001b[0m \u001b[0mCLIENT_ID\u001b[0m\u001b[0;34m,\u001b[0m \u001b[0;36m0\u001b[0m\u001b[0;34m)\u001b[0m\u001b[0;34m\u001b[0m\u001b[0;34m\u001b[0m\u001b[0m\n\u001b[1;32m      5\u001b[0m \u001b[0mprint\u001b[0m\u001b[0;34m(\u001b[0m\u001b[0mresponse\u001b[0m\u001b[0;34m)\u001b[0m\u001b[0;34m\u001b[0m\u001b[0;34m\u001b[0m\u001b[0m\n",
      "\u001b[0;32m~/code/nyu/fall20/distributed/dynamo-clone/client_dynamo.py\u001b[0m in \u001b[0;36mclient_put\u001b[0;34m(port, client_id, key, val, context)\u001b[0m\n\u001b[1;32m     67\u001b[0m         \u001b[0;32mwith\u001b[0m \u001b[0mgrpc\u001b[0m\u001b[0;34m.\u001b[0m\u001b[0minsecure_channel\u001b[0m\u001b[0;34m(\u001b[0m\u001b[0;34mf\"localhost:{response.reroute_server_id}\"\u001b[0m\u001b[0;34m)\u001b[0m \u001b[0;32mas\u001b[0m \u001b[0mchannel\u001b[0m\u001b[0;34m:\u001b[0m\u001b[0;34m\u001b[0m\u001b[0;34m\u001b[0m\u001b[0m\n\u001b[1;32m     68\u001b[0m             \u001b[0mstub\u001b[0m \u001b[0;34m=\u001b[0m \u001b[0mDynamoInterfaceStub\u001b[0m\u001b[0;34m(\u001b[0m\u001b[0mchannel\u001b[0m\u001b[0;34m)\u001b[0m\u001b[0;34m\u001b[0m\u001b[0;34m\u001b[0m\u001b[0m\n\u001b[0;32m---> 69\u001b[0;31m             \u001b[0mresponse\u001b[0m \u001b[0;34m=\u001b[0m \u001b[0mput\u001b[0m\u001b[0;34m(\u001b[0m\u001b[0mstub\u001b[0m\u001b[0;34m,\u001b[0m \u001b[0mrequest\u001b[0m\u001b[0;34m)\u001b[0m\u001b[0;34m\u001b[0m\u001b[0;34m\u001b[0m\u001b[0m\n\u001b[0m\u001b[1;32m     70\u001b[0m \u001b[0;34m\u001b[0m\u001b[0m\n\u001b[1;32m     71\u001b[0m     \u001b[0;32mreturn\u001b[0m \u001b[0mresponse\u001b[0m\u001b[0;34m\u001b[0m\u001b[0;34m\u001b[0m\u001b[0m\n",
      "\u001b[0;32m~/code/nyu/fall20/distributed/dynamo-clone/client_dynamo.py\u001b[0m in \u001b[0;36mput\u001b[0;34m(stub, request)\u001b[0m\n\u001b[1;32m     35\u001b[0m     \u001b[0mRegular\u001b[0m \u001b[0mput\u001b[0m \u001b[0mrequest\u001b[0m\u001b[0;34m\u001b[0m\u001b[0;34m\u001b[0m\u001b[0m\n\u001b[1;32m     36\u001b[0m     \"\"\"\n\u001b[0;32m---> 37\u001b[0;31m     \u001b[0mresponse\u001b[0m \u001b[0;34m:\u001b[0m \u001b[0mPutResponse\u001b[0m \u001b[0;34m=\u001b[0m \u001b[0mstub\u001b[0m\u001b[0;34m.\u001b[0m\u001b[0mPut\u001b[0m\u001b[0;34m(\u001b[0m\u001b[0mrequest\u001b[0m\u001b[0;34m)\u001b[0m\u001b[0;34m\u001b[0m\u001b[0;34m\u001b[0m\u001b[0m\n\u001b[0m\u001b[1;32m     38\u001b[0m     \u001b[0mlogging\u001b[0m\u001b[0;34m.\u001b[0m\u001b[0minfo\u001b[0m\u001b[0;34m(\u001b[0m\u001b[0;34mf\"Put Response recieved from {response.server_id}\"\u001b[0m\u001b[0;34m)\u001b[0m\u001b[0;34m\u001b[0m\u001b[0;34m\u001b[0m\u001b[0m\n\u001b[1;32m     39\u001b[0m     \u001b[0;32mreturn\u001b[0m \u001b[0mresponse\u001b[0m\u001b[0;34m\u001b[0m\u001b[0;34m\u001b[0m\u001b[0m\n",
      "\u001b[0;32m/opt/miniconda3/envs/dynamo/lib/python3.8/site-packages/grpc/_channel.py\u001b[0m in \u001b[0;36m__call__\u001b[0;34m(self, request, timeout, metadata, credentials, wait_for_ready, compression)\u001b[0m\n\u001b[1;32m    824\u001b[0m         state, call, = self._blocking(request, timeout, metadata, credentials,\n\u001b[1;32m    825\u001b[0m                                       wait_for_ready, compression)\n\u001b[0;32m--> 826\u001b[0;31m         \u001b[0;32mreturn\u001b[0m \u001b[0m_end_unary_response_blocking\u001b[0m\u001b[0;34m(\u001b[0m\u001b[0mstate\u001b[0m\u001b[0;34m,\u001b[0m \u001b[0mcall\u001b[0m\u001b[0;34m,\u001b[0m \u001b[0;32mFalse\u001b[0m\u001b[0;34m,\u001b[0m \u001b[0;32mNone\u001b[0m\u001b[0;34m)\u001b[0m\u001b[0;34m\u001b[0m\u001b[0;34m\u001b[0m\u001b[0m\n\u001b[0m\u001b[1;32m    827\u001b[0m \u001b[0;34m\u001b[0m\u001b[0m\n\u001b[1;32m    828\u001b[0m     def with_call(self,\n",
      "\u001b[0;32m/opt/miniconda3/envs/dynamo/lib/python3.8/site-packages/grpc/_channel.py\u001b[0m in \u001b[0;36m_end_unary_response_blocking\u001b[0;34m(state, call, with_call, deadline)\u001b[0m\n\u001b[1;32m    727\u001b[0m             \u001b[0;32mreturn\u001b[0m \u001b[0mstate\u001b[0m\u001b[0;34m.\u001b[0m\u001b[0mresponse\u001b[0m\u001b[0;34m\u001b[0m\u001b[0;34m\u001b[0m\u001b[0m\n\u001b[1;32m    728\u001b[0m     \u001b[0;32melse\u001b[0m\u001b[0;34m:\u001b[0m\u001b[0;34m\u001b[0m\u001b[0;34m\u001b[0m\u001b[0m\n\u001b[0;32m--> 729\u001b[0;31m         \u001b[0;32mraise\u001b[0m \u001b[0m_InactiveRpcError\u001b[0m\u001b[0;34m(\u001b[0m\u001b[0mstate\u001b[0m\u001b[0;34m)\u001b[0m\u001b[0;34m\u001b[0m\u001b[0;34m\u001b[0m\u001b[0m\n\u001b[0m\u001b[1;32m    730\u001b[0m \u001b[0;34m\u001b[0m\u001b[0m\n\u001b[1;32m    731\u001b[0m \u001b[0;34m\u001b[0m\u001b[0m\n",
      "\u001b[0;31m_InactiveRpcError\u001b[0m: <_InactiveRpcError of RPC that terminated with:\n\tstatus = StatusCode.UNKNOWN\n\tdetails = \"Exception calling application: \"\n\tdebug_error_string = \"{\"created\":\"@1607554502.575614000\",\"description\":\"Error received from peer ipv6:[::1]:2333\",\"file\":\"src/core/lib/surface/call.cc\",\"file_line\":1062,\"grpc_message\":\"Exception calling application: \",\"grpc_status\":2}\"\n>"
     ]
    }
   ],
   "source": [
    "response = client_put(START_PORT+1, CLIENT_ID, 0, \"0\")\n",
    "print(response)\n",
    "\n",
    "response = client_get(START_PORT+1, CLIENT_ID, 0)\n",
    "print(response)"
   ]
  },
  {
   "cell_type": "code",
   "execution_count": 10,
   "metadata": {
    "scrolled": false
   },
   "outputs": [
    {
     "data": {
      "application/vnd.jupyter.widget-view+json": {
       "model_id": "63986df8c97f421987e8915841ad57cb",
       "version_major": 2,
       "version_minor": 0
      },
      "text/plain": [
       "HBox(children=(HTML(value=''), FloatProgress(value=0.0, max=3.0), HTML(value='')))"
      ]
     },
     "metadata": {},
     "output_type": "display_data"
    },
    {
     "name": "stdout",
     "output_type": "stream",
     "text": [
      "0 []\n",
      "0\n",
      "0 []\n",
      "0\n",
      "0 []\n",
      "0\n",
      "\n"
     ]
    }
   ],
   "source": [
    "# get_fail_durations = np.array([])\n",
    "get_fail_durations, responses = run_multiple_get(30, 10, None, START_PORT)"
   ]
  },
  {
   "cell_type": "code",
   "execution_count": 9,
   "metadata": {},
   "outputs": [
    {
     "data": {
      "text/plain": [
       "(10,)"
      ]
     },
     "execution_count": 9,
     "metadata": {},
     "output_type": "execute_result"
    }
   ],
   "source": [
    "get_fail_durations = np.array(get_fail_durations)\n",
    "\n",
    "get_fail_durations.shape"
   ]
  },
  {
   "cell_type": "code",
   "execution_count": 13,
   "metadata": {},
   "outputs": [
    {
     "data": {
      "text/plain": [
       "1"
      ]
     },
     "execution_count": 13,
     "metadata": {},
     "output_type": "execute_result"
    }
   ],
   "source": [
    "len(get_fail_durations)"
   ]
  },
  {
   "cell_type": "code",
   "execution_count": 12,
   "metadata": {},
   "outputs": [
    {
     "data": {
      "text/plain": [
       "array([ 27.10199356, 132.25102425, 113.0759716 ])"
      ]
     },
     "execution_count": 12,
     "metadata": {},
     "output_type": "execute_result"
    }
   ],
   "source": [
    "get_fail_durations*1000"
   ]
  },
  {
   "cell_type": "code",
   "execution_count": 11,
   "metadata": {},
   "outputs": [
    {
     "data": {
      "text/plain": [
       "10"
      ]
     },
     "execution_count": 11,
     "metadata": {},
     "output_type": "execute_result"
    }
   ],
   "source": [
    "len(responses)"
   ]
  },
  {
   "cell_type": "code",
   "execution_count": 20,
   "metadata": {},
   "outputs": [
    {
     "ename": "NameError",
     "evalue": "name 'get_durations' is not defined",
     "output_type": "error",
     "traceback": [
      "\u001b[0;31m---------------------------------------------------------------------------\u001b[0m",
      "\u001b[0;31mNameError\u001b[0m                                 Traceback (most recent call last)",
      "\u001b[0;32m<ipython-input-20-9b3fd3e44b80>\u001b[0m in \u001b[0;36m<module>\u001b[0;34m\u001b[0m\n\u001b[0;32m----> 1\u001b[0;31m \u001b[0mget_durations\u001b[0m\u001b[0;34m.\u001b[0m\u001b[0mshape\u001b[0m\u001b[0;34m\u001b[0m\u001b[0;34m\u001b[0m\u001b[0m\n\u001b[0m",
      "\u001b[0;31mNameError\u001b[0m: name 'get_durations' is not defined"
     ]
    }
   ],
   "source": [
    "get_durations.shape"
   ]
  },
  {
   "cell_type": "code",
   "execution_count": 1,
   "metadata": {},
   "outputs": [],
   "source": [
    "test = [0.029925823211669922, 0.03148627281188965, 0.031996965408325195, 0.03176593780517578, 0.031462907791137695, 0.030453920364379883, 0.03252911567687988, 0.0177609920501709, 0.1620798110961914, 0.2121727466583252, 0.22617697715759277, 0.2506279945373535, 0.24697089195251465, 0.29291319847106934, 0.4482302665710449, 0.40848278999328613, 0.48263120651245117]"
   ]
  },
  {
   "cell_type": "code",
   "execution_count": 2,
   "metadata": {},
   "outputs": [
    {
     "data": {
      "text/plain": [
       "17"
      ]
     },
     "execution_count": 2,
     "metadata": {},
     "output_type": "execute_result"
    }
   ],
   "source": [
    "len(test)"
   ]
  },
  {
   "cell_type": "code",
   "execution_count": null,
   "metadata": {},
   "outputs": [],
   "source": []
  }
 ],
 "metadata": {
  "kernelspec": {
   "display_name": "Python [conda env:dynamo] *",
   "language": "python",
   "name": "conda-env-dynamo-py"
  },
  "language_info": {
   "codemirror_mode": {
    "name": "ipython",
    "version": 3
   },
   "file_extension": ".py",
   "mimetype": "text/x-python",
   "name": "python",
   "nbconvert_exporter": "python",
   "pygments_lexer": "ipython3",
   "version": "3.8.5"
  }
 },
 "nbformat": 4,
 "nbformat_minor": 4
}
