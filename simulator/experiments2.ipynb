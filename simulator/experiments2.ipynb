{
 "cells": [
  {
   "cell_type": "code",
   "execution_count": 1,
   "metadata": {},
   "outputs": [
    {
     "name": "stdout",
     "output_type": "stream",
     "text": [
      "16 and True\n",
      "8 and True\n",
      "Configuration is as follows: Key space sizes 256\n",
      "Total V Nodes 16 | V Nodes Per Proc 2\n"
     ]
    }
   ],
   "source": [
    "from tqdm.notebook import tqdm\n",
    "import numpy as np\n",
    "import sys\n",
    "sys.path.append('../')\n",
    "from partitioning import is_pow_of_two, init_membership_list\n",
    "from spawn import start_db_background\n",
    "from structures import Params, NetworkParams\n",
    "from client_dynamo import client_get, client_put\n",
    "from parallel_runner import run_parallel\n",
    "from random import randint\n",
    "\n",
    "import logging\n",
    "logger = logging.getLogger('dynamo_node')\n",
    "logger.setLevel(logging.ERROR)\n",
    "\n",
    "START_PORT = 2333\n",
    "CLIENT_ID = 1\n",
    "\n",
    "def get_start_port(randomize=True):\n",
    "    return START_PORT + randint(0, params.num_proc-1) * int(randomize)\n",
    "\n",
    "def get_stats(durations):\n",
    "    if len(durations) == 0:\n",
    "        return {}\n",
    "    durations = np.array(durations) # convert from seconds to ms\n",
    "    mean = np.mean(durations)\n",
    "    std = np.std(durations)\n",
    "    nnth = np.percentile(durations, 99.9)\n",
    "    return {'mean': mean, 'std': std, '99.9th': nnth}\n",
    "\n",
    "def generate_plot(durations, label='', clear=True):\n",
    "    if clear:\n",
    "        plt.clf()\n",
    "    fig = sns.distplot(durations, label=label)\n",
    "    plt.ylabel('Density')\n",
    "    plt.xlabel('Response Time (in ms)')\n",
    "    plt.title('Distribution of response times (in ms)')\n",
    "    plt.legend()\n",
    "    plt.show()\n",
    "\n",
    "params = {\n",
    "    'num_proc' : 8,\n",
    "    'hash_size': 8, # 2^3 = 8 \n",
    "    'Q' : 16, # \n",
    "    'N' : 4,\n",
    "    'w_timeout': 2,\n",
    "    'r_timeout': 2,\n",
    "    'R': 3,\n",
    "    'W': 1,\n",
    "    'gossip': False\n",
    "}\n",
    "network_params = {\n",
    "    'latency': 10,\n",
    "    'randomize_latency': False,\n",
    "    'drop_prob': 0\n",
    "}\n",
    "\n",
    "params = Params(params)\n",
    "network_params = NetworkParams(network_params)\n",
    "membership_information = init_membership_list(params)"
   ]
  },
  {
   "cell_type": "code",
   "execution_count": 2,
   "metadata": {},
   "outputs": [
    {
     "name": "stdout",
     "output_type": "stream",
     "text": [
      "Membership Info {0: [14, 4], 1: [3, 8], 2: [12, 9], 3: [2, 11], 4: [1, 13], 5: [6, 15], 6: [5, 7], 7: [10, 0]} NUmber of processes 8\n",
      "0\n",
      "--------Starting process with params: Loading config..\n",
      "num_proc : 8\n",
      "hash_size : 8\n",
      "Q : 16\n",
      "N : 4\n",
      "w_timeout : 2\n",
      "r_timeout : 2\n",
      "R : 3\n",
      "W : 1\n",
      "gossip : False\n",
      "\n"
     ]
    }
   ],
   "source": [
    "processes_future = start_db_background(params, membership_information, network_params, wait=True, start_port=START_PORT)"
   ]
  },
  {
   "cell_type": "code",
   "execution_count": 3,
   "metadata": {},
   "outputs": [],
   "source": [
    "def store_keys(params):\n",
    "    for key in tqdm(range(2**params.hash_size)):\n",
    "        client_put(get_start_port(), CLIENT_ID, key=key, val=str(key))"
   ]
  },
  {
   "cell_type": "code",
   "execution_count": 4,
   "metadata": {},
   "outputs": [
    {
     "data": {
      "application/vnd.jupyter.widget-view+json": {
       "model_id": "5f5dd02c608945289db860b79ce48e2f",
       "version_major": 2,
       "version_minor": 0
      },
      "text/plain": [
       "HBox(children=(HTML(value=''), FloatProgress(value=0.0, max=256.0), HTML(value='')))"
      ]
     },
     "metadata": {},
     "output_type": "display_data"
    },
    {
     "name": "stdout",
     "output_type": "stream",
     "text": [
      "\n"
     ]
    }
   ],
   "source": [
    "store_keys(params)"
   ]
  },
  {
   "cell_type": "code",
   "execution_count": 5,
   "metadata": {
    "scrolled": true
   },
   "outputs": [],
   "source": [
    "context=None\n",
    "# response = client_put(get_start_port(), CLIENT_ID, key=16, val=\"16\", context=context)\n",
    "\n",
    "response = client_get(get_start_port(), CLIENT_ID, key=1)\n",
    "context = response.items[0].context"
   ]
  },
  {
   "cell_type": "code",
   "execution_count": 6,
   "metadata": {},
   "outputs": [],
   "source": [
    "get_durations = np.array([])"
   ]
  },
  {
   "cell_type": "code",
   "execution_count": 7,
   "metadata": {},
   "outputs": [],
   "source": [
    "def run_multiple_get(total, num_requests, get_durations):\n",
    "    for i in tqdm(range(total // num_requests)):\n",
    "        requests = [client_get]*num_requests\n",
    "        requests_params = [{'port': get_start_port(), 'client_id': CLIENT_ID, 'key': randint(0, 2**params.hash_size-1)} for _ in range(num_requests)]\n",
    "        get_durations = np.concatenate((get_durations, run_parallel(requests, requests_params, start_port=START_PORT)))\n",
    "    return get_durations\n",
    "\n",
    "def run_multiple_put(total, num_requests, put_durations):\n",
    "    for i in tqdm(range(total // num_requests)):\n",
    "        requests = [client_put]*num_requests\n",
    "        k = randint(0, 2**params.hash_size-1)\n",
    "        requests_params = [{'port': get_start_port(), 'client_id': CLIENT_ID, 'key': k, 'val': str(k)} for _ in range(num_requests)]\n",
    "        put_durations = np.concatenate((put_durations, run_parallel(requests, requests_params, start_port=START_PORT)))\n",
    "    return put_durations"
   ]
  },
  {
   "cell_type": "code",
   "execution_count": 8,
   "metadata": {},
   "outputs": [
    {
     "data": {
      "application/vnd.jupyter.widget-view+json": {
       "model_id": "5c6bdf9aac2f4def93dc8e29ea721268",
       "version_major": 2,
       "version_minor": 0
      },
      "text/plain": [
       "HBox(children=(HTML(value=''), FloatProgress(value=0.0), HTML(value='')))"
      ]
     },
     "metadata": {},
     "output_type": "display_data"
    },
    {
     "name": "stdout",
     "output_type": "stream",
     "text": [
      "\n"
     ]
    }
   ],
   "source": [
    "get_durations = run_multiple_get(1000, 10, get_durations)"
   ]
  },
  {
   "cell_type": "code",
   "execution_count": 9,
   "metadata": {},
   "outputs": [
    {
     "data": {
      "text/plain": [
       "(1000,)"
      ]
     },
     "execution_count": 9,
     "metadata": {},
     "output_type": "execute_result"
    }
   ],
   "source": [
    "get_durations.shape"
   ]
  },
  {
   "cell_type": "code",
   "execution_count": 10,
   "metadata": {},
   "outputs": [],
   "source": [
    "get_durations *= 1000"
   ]
  },
  {
   "cell_type": "code",
   "execution_count": 11,
   "metadata": {},
   "outputs": [
    {
     "data": {
      "text/plain": [
       "(42.77582001686096, 5.884329865332059)"
      ]
     },
     "execution_count": 11,
     "metadata": {},
     "output_type": "execute_result"
    }
   ],
   "source": [
    "get_durations.mean(), get_durations.std()"
   ]
  },
  {
   "cell_type": "code",
   "execution_count": 12,
   "metadata": {},
   "outputs": [],
   "source": [
    "stats_get = get_stats(get_durations)"
   ]
  },
  {
   "cell_type": "code",
   "execution_count": 13,
   "metadata": {},
   "outputs": [
    {
     "name": "stdout",
     "output_type": "stream",
     "text": [
      "mean: 42.78 ms\n",
      "std: 5.88 ms\n",
      "99.9th: 77.67 ms\n"
     ]
    }
   ],
   "source": [
    "for k,v in stats_get.items():\n",
    "    print(f'{k}: {v:.2f} ms')"
   ]
  },
  {
   "cell_type": "code",
   "execution_count": 14,
   "metadata": {},
   "outputs": [],
   "source": [
    "put_durations = np.array([])"
   ]
  },
  {
   "cell_type": "code",
   "execution_count": 15,
   "metadata": {},
   "outputs": [
    {
     "data": {
      "application/vnd.jupyter.widget-view+json": {
       "model_id": "84e5807683ab403192294143c31f7511",
       "version_major": 2,
       "version_minor": 0
      },
      "text/plain": [
       "HBox(children=(HTML(value=''), FloatProgress(value=0.0), HTML(value='')))"
      ]
     },
     "metadata": {},
     "output_type": "display_data"
    },
    {
     "name": "stdout",
     "output_type": "stream",
     "text": [
      "\n"
     ]
    }
   ],
   "source": [
    "put_durations = run_multiple_put(1000, 10, put_durations)"
   ]
  },
  {
   "cell_type": "code",
   "execution_count": 16,
   "metadata": {},
   "outputs": [
    {
     "data": {
      "text/plain": [
       "(1000,)"
      ]
     },
     "execution_count": 16,
     "metadata": {},
     "output_type": "execute_result"
    }
   ],
   "source": [
    "put_durations.shape"
   ]
  },
  {
   "cell_type": "code",
   "execution_count": 17,
   "metadata": {},
   "outputs": [],
   "source": [
    "put_durations *= 1000"
   ]
  },
  {
   "cell_type": "code",
   "execution_count": 18,
   "metadata": {},
   "outputs": [],
   "source": [
    "put_stats = get_stats(put_durations)"
   ]
  },
  {
   "cell_type": "code",
   "execution_count": 19,
   "metadata": {},
   "outputs": [
    {
     "name": "stdout",
     "output_type": "stream",
     "text": [
      "mean: 30.13 ms\n",
      "std: 5.10 ms\n",
      "99.9th: 38.91 ms\n"
     ]
    }
   ],
   "source": [
    "for k,v in put_stats.items():\n",
    "    print(f'{k}: {v:.2f} ms')"
   ]
  },
  {
   "cell_type": "code",
   "execution_count": 20,
   "metadata": {},
   "outputs": [],
   "source": [
    "import matplotlib.pyplot as plt\n",
    "import seaborn as sns\n",
    "plt.style.use('seaborn')"
   ]
  },
  {
   "cell_type": "code",
   "execution_count": 21,
   "metadata": {},
   "outputs": [
    {
     "name": "stderr",
     "output_type": "stream",
     "text": [
      "/opt/miniconda3/envs/dynamo/lib/python3.8/site-packages/seaborn/distributions.py:2551: FutureWarning: `distplot` is a deprecated function and will be removed in a future version. Please adapt your code to use either `displot` (a figure-level function with similar flexibility) or `histplot` (an axes-level function for histograms).\n",
      "  warnings.warn(msg, FutureWarning)\n",
      "/opt/miniconda3/envs/dynamo/lib/python3.8/site-packages/seaborn/distributions.py:2551: FutureWarning: `distplot` is a deprecated function and will be removed in a future version. Please adapt your code to use either `displot` (a figure-level function with similar flexibility) or `histplot` (an axes-level function for histograms).\n",
      "  warnings.warn(msg, FutureWarning)\n"
     ]
    },
    {
     "data": {
      "image/png": "[encoded data removed]",
      "text/plain": [
       "<Figure size 576x396 with 1 Axes>"
      ]
     },
     "metadata": {},
     "output_type": "display_data"
    }
   ],
   "source": [
    "fig = sns.distplot(get_durations, label='GET')\n",
    "fig = sns.distplot(put_durations, label='PUT')\n",
    "plt.ylabel('Density')\n",
    "plt.xlabel('Response Time (in ms)')\n",
    "plt.title('N:4, R:3, W:1')\n",
    "plt.legend()\n",
    "plt.show()"
   ]
  },
  {
   "cell_type": "code",
   "execution_count": null,
   "metadata": {},
   "outputs": [],
   "source": []
  }
 ],
 "metadata": {
  "kernelspec": {
   "display_name": "Python 3",
   "language": "python",
   "name": "python3"
  },
  "language_info": {
   "codemirror_mode": {
    "name": "ipython",
    "version": 3
   },
   "file_extension": ".py",
   "mimetype": "text/x-python",
   "name": "python",
   "nbconvert_exporter": "python",
   "pygments_lexer": "ipython3",
   "version": "3.6.12"
  }
 },
 "nbformat": 4,
 "nbformat_minor": 4
}
